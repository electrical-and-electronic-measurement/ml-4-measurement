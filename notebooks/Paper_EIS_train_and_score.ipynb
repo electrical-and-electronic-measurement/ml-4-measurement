{
  "cells": [
    {
      "cell_type": "markdown",
      "metadata": {
        "id": "oVxNq1da90RR"
      },
      "source": [
        "# Training environment information"
      ]
    },
    {
      "cell_type": "code",
      "execution_count": null,
      "metadata": {
        "id": "-Tp6qCNzsYwn"
      },
      "outputs": [],
      "source": [
        "!free -h"
      ]
    },
    {
      "cell_type": "code",
      "execution_count": null,
      "metadata": {
        "id": "m7ZW7yHLsYwo"
      },
      "outputs": [],
      "source": [
        "!nvidia-smi -L"
      ]
    },
    {
      "cell_type": "code",
      "execution_count": null,
      "metadata": {
        "id": "n4CiG3HfsYwp"
      },
      "outputs": [],
      "source": [
        "!lscpu |grep 'Model name'"
      ]
    },
    {
      "cell_type": "code",
      "execution_count": null,
      "metadata": {
        "id": "Be-JJyBmsYwp"
      },
      "outputs": [],
      "source": [
        "!lscpu | grep 'Core(s) per socket:'"
      ]
    },
    {
      "cell_type": "code",
      "execution_count": null,
      "metadata": {
        "id": "bPkilTV_sYwp"
      },
      "outputs": [],
      "source": [
        "!nvidia-smi"
      ]
    },
    {
      "cell_type": "code",
      "execution_count": null,
      "metadata": {
        "id": "x5MK7bEesYwq"
      },
      "outputs": [],
      "source": [
        "!nvcc --version"
      ]
    },
    {
      "cell_type": "markdown",
      "metadata": {
        "id": "1Kog7U3-sYwq"
      },
      "source": [
        "Preventing disconnect from Google Colab notebook:\n",
        "Right-click on the connect button and paste the code to the console of the UI:\n",
        "\n",
        "\n",
        "```\n",
        "function ClickConnect(){\n",
        "    console.log(\"Clicked on connect button\");\n",
        "    document.querySelector(\"colab-connect-button\").click() \n",
        " }\n",
        " setInterval(ClickConnect,60000)\n",
        "```"
      ]
    },
    {
      "cell_type": "markdown",
      "metadata": {
        "id": "XNQ5Ha4190RX"
      },
      "source": [
        "# Setup"
      ]
    },
    {
      "cell_type": "code",
      "execution_count": null,
      "metadata": {
        "id": "HGnLwAQjsYwr"
      },
      "outputs": [],
      "source": [
        "!pip install fastai==2.5.3 -q\n",
        "!pip freeze"
      ]
    },
    {
      "cell_type": "code",
      "execution_count": null,
      "metadata": {
        "id": "fsgHAewasYws"
      },
      "outputs": [],
      "source": [
        "# import\n",
        "import pandas as pd\n",
        "import numpy as np\n",
        "import matplotlib.pyplot as plt\n",
        "from fastai.vision.all import *\n",
        "import sys"
      ]
    },
    {
      "cell_type": "code",
      "execution_count": null,
      "metadata": {
        "id": "UgYIwqmvsYws"
      },
      "outputs": [],
      "source": [
        "# Load EB_ML python libraries\n",
        "# The following libraries are used in this notebook and should be installed in your local machine before running this notebook.\n",
        "# eb_colab_utils.py\n",
        "# eb_ml_battery_lib.py\n",
        "# eb_ml_utils.py\n",
        "\n",
        "# path to load external *.py files used in this notebook\n",
        "# Note: in Google Colab virtual machine you shoud copy the files in \"/content\" folder after BEFORE running this notebook's cell\n",
        "external_python_file_path=\"'/.'\"\n",
        "sys.path.append(external_python_file_path)\n",
        "\n",
        "\n",
        "from eb_ml_colab_utils import get_root_path,copy_model_to_google_drive\n",
        "from eb_ml_battery_lib import load_soc_dataset,generate_image_files_from_eis\n",
        "from eb_ml_utils import save_model_weights,build_data_loader,build_and_train_learner,score_model"
      ]
    },
    {
      "cell_type": "markdown",
      "metadata": {
        "id": "rk1V4BfD90RY"
      },
      "source": [
        "# Training Configuration"
      ]
    },
    {
      "cell_type": "code",
      "execution_count": null,
      "metadata": {
        "id": "bYECaakosYwu"
      },
      "outputs": [],
      "source": [
        "#configuration dictionary\n",
        "config ={}\n",
        "\n",
        "# Root working folder (local or Google Drive)\n",
        "# config['ROOT_DIR'] = get_root_path(\"batterie\")\n",
        "config['ROOT_DIR'] = get_root_path(\"batterie\")  \n",
        "\n",
        "# Folder with dataset in CSV format\n",
        "#config['DATASETS_DIR'] = config['ROOT_DIR']+\"/datasets\"\n",
        "config['DATASETS_DIR'] = config['ROOT_DIR']+\"/datasets/EIS-vs-SOC-May2022\"\n",
        "\n",
        "# List of SoC level into dataset\n",
        "#config['soc_list']=['100','090','080','070','060','050','040','030','020','010']\n",
        "config['soc_list']=['100','090','080','070','060','050','040','030','020','010']\n",
        "\n",
        "\n",
        "# Folder to store trained model\n",
        "#config['MODELS_DIR'] = config['ROOT_DIR']+\"/models\"\n",
        "config['MODELS_DIR'] = config['ROOT_DIR']+\"/models\""
      ]
    },
    {
      "cell_type": "markdown",
      "metadata": {
        "id": "Ubn2YvoksYwt"
      },
      "source": [
        "Source data: battery EIS performed for SoC 100,90,80,70,60,50,40,30,20,10. Same frequnecies for each SoC\n",
        "\n",
        "Data format:  Re{Zbat}-Im{Zbat}j\n",
        "\n",
        "```Matlab\n",
        "prefix = {...\n",
        "    './Batt1/Meas1/'; --> 1\n",
        "    './Batt1/Meas2/'; --> 2*\n",
        "\t  './Batt2/Meas1/'; --> 3  \n",
        "    './Batt2/Meas2/'; --> 4*\n",
        "    './Batt3/Meas1/'; --> 5\n",
        "    './Batt3/Meas2/'; --> 6* ...\n",
        "    './Batt4/Meas1/';\n",
        "    './Batt5/Meas1/';\n",
        "    './Batt6/Meas1/';\n",
        "    './Batt7/Meas1/';\n",
        "    './Batt8/Meas1/';\n",
        "    './Batt9/Meas1/';\n",
        "    './Batt10/Meas1/'; -->13\n",
        "    };\n",
        "```"
      ]
    },
    {
      "cell_type": "markdown",
      "metadata": {
        "id": "2_wTWPPa90RZ"
      },
      "source": [
        "# Data Selection"
      ]
    },
    {
      "cell_type": "code",
      "execution_count": null,
      "metadata": {
        "id": "nHi1IGsisYwt"
      },
      "outputs": [],
      "source": [
        "\n",
        "# Data acquition file to load from dateset folder\n",
        "all_batteries=[\"02_4\",\"02_5\",\"02_6\",\"02_7\",\"02_8\",\"02_9\",\"03_4\",\"03_5\",\"03_6\",\"03_7\",\"03_8\",\"03_9\",\"05_3\",\"05_4\",\"05_5\",\"05_6\",\"05_7\"]#,\"05_8\" e batteria 6 usate per test\n",
        "\n",
        "# List of data acquisition to use for cross validation\n",
        "# A cross- validation experiment will be generate for each item in the list\n",
        "cross_validation_list=[[\"02_4\",\"02_5\",\"02_6\",\"02_7\",\"02_8\",\"02_9\"],[\"03_4\",\"03_5\",\"03_6\",\"03_7\",\"03_8\",\"03_9\"],[\"05_3\",\"05_4\",\"05_5\",\"05_6\",\"05_7\"]] #,\"05_8\"]] # Data acquitions on battery 6 used for testing\n",
        "cross_validation_experiment_names = [\"02\",\"03\",\"05\"]"
      ]
    },
    {
      "cell_type": "markdown",
      "metadata": {
        "id": "-BOXzV6F90Ra"
      },
      "source": [
        "# Model Training"
      ]
    },
    {
      "cell_type": "markdown",
      "metadata": {
        "id": "SpBrTZcB90Ra"
      },
      "source": [
        "## Leave One Battery Out"
      ]
    },
    {
      "cell_type": "code",
      "execution_count": null,
      "metadata": {
        "id": "R87-KmJ1sYwu"
      },
      "outputs": [],
      "source": [
        "# Enable/disable image dataset generation\n",
        "# Image genaration is time and resource comsuming task. \n",
        "# You need to generate image just once for every cross validation experiment\n",
        "# generate_images = False\n",
        "generate_images = True\n",
        "\n",
        "# The number of epochs is a hyperparameter that defines the number times that the \n",
        "# learning algorithm will work through the entire training dataset\n",
        "# n_epochs=30\n",
        "n_epochs=50\n",
        "\n",
        "# Experiment name prefix\n",
        "# This prefix will be used in name of files and foldersto store the model and the results of the experiment\n",
        "# Note1: if you want to run multiple experiments you need to change the name prefix\n",
        "# Note2: if you want to run in a Colab virtual machine generated images and model will be stored in your Google Drive\n",
        "experiment_name_prefix=\"Paper_EIS_leave_one_out_\"\n",
        "\n",
        "#TODO: nel dataset di validazione alcune classi non sono rappresentate. Usare stratified splitter\n",
        "config['Splitter'] = RandomSplitter(valid_pct=0.3, seed=41)\n",
        "config['rePat'] = r'^.*_(\\d+).png$'\n",
        "\n",
        "model_accuracy={}\n",
        "cross_validation_experiment_index = 0 # Cross validation experiment index\n",
        "\n",
        "# Train and score model for cross-validation\n",
        "for batt_measures in cross_validation_list:\n",
        "  batt=cross_validation_experiment_names[cross_validation_experiment_index]\n",
        "  battery_list=all_batteries.copy()\n",
        "  test_battery_list = []\n",
        "  for batt_mes in batt_measures:\n",
        "    battery_list.remove(batt_mes)\n",
        "    test_battery_list.append(batt_mes)\n",
        "  print(\"battery data acquisitions for training and validation: \")\n",
        "  print(battery_list)\n",
        "  print(\"battery data acquisitions for test: \")\n",
        "  print(test_battery_list)\n",
        "  model_name=experiment_name_prefix+str(batt)\n",
        "  print(\"model name: \"+model_name)\n",
        "\n",
        "  config['ExperimentName'] = model_name\n",
        "  config['IMAGES_PATH'] = config['ROOT_DIR']+\"/\"+config['ExperimentName']\n",
        "  config['TEST_IMAGES_PATH'] = config['ROOT_DIR']+\"/test_\"+config['ExperimentName']\n",
        "\n",
        "  #GENERATE IMAGE\n",
        "  if(generate_images):\n",
        "      dataset,feature_col_names=load_soc_dataset(battery_list,config[\"soc_list\"],config['DATASETS_DIR'])\n",
        "      generate_image_files_from_eis(dataset,feature_col_names,config['IMAGES_PATH'],config['ExperimentName'],rescale=False,DATA_AUGMENTATION_FACTOR=10)\n",
        "\n",
        "      test_dataset,feature_col_names=load_soc_dataset(test_battery_list,config[\"soc_list\"],config['DATASETS_DIR'])\n",
        "      generate_image_files_from_eis(test_dataset,feature_col_names,config['TEST_IMAGES_PATH'],config['ExperimentName'],rescale=False,DATA_AUGMENTATION_FACTOR=10)\n",
        "\n",
        "  # TRAINING\n",
        "  learn= build_and_train_learner(config,n_epochs=n_epochs)\n",
        "  #SAVE\n",
        "  weights_filename=save_model_weights(learn,config[\"MODELS_DIR\"],model_name)\n",
        "  filename_pth= weights_filename+\".pth\"\n",
        "  copy_model_to_google_drive(filename_pth,learn.model_dir,config[\"MODELS_DIR\"])\n",
        "  # SCORE MODEL\n",
        "  dl=build_data_loader(config)\n",
        "  model_accuracy[model_name]=score_model(weights_filename,dl)\n",
        "  cross_validation_experiment_index+=1"
      ]
    }
  ],
  "metadata": {
    "accelerator": "GPU",
    "colab": {
      "name": "Paper_EIS_train_and_score.ipynb",
      "provenance": []
    },
    "interpreter": {
      "hash": "10ac610c3e92572f9a22face5588ea509fa9f41d041b79c065588094f713a205"
    },
    "kernelspec": {
      "display_name": "Python 3.8.5 ('base')",
      "language": "python",
      "name": "python3"
    },
    "language_info": {
      "codemirror_mode": {
        "name": "ipython",
        "version": 3
      },
      "file_extension": ".py",
      "mimetype": "text/x-python",
      "name": "python",
      "nbconvert_exporter": "python",
      "pygments_lexer": "ipython3",
      "version": "3.8.5"
    },
    "orig_nbformat": 4
  },
  "nbformat": 4,
  "nbformat_minor": 0
}
