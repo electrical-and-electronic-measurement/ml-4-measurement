{
 "cells": [
  {
   "cell_type": "markdown",
   "metadata": {},
   "source": [
    "# Test Tabular Regression Model "
   ]
  },
  {
   "cell_type": "markdown",
   "metadata": {},
   "source": [
    "## Setup"
   ]
  },
  {
   "cell_type": "code",
   "execution_count": 1,
   "metadata": {},
   "outputs": [],
   "source": [
    "# Fastai is required by eb_ml_battery_lib\n",
    "!pip install fastai==2.5.3 -q\n",
    "# import\n",
    "import pandas as pd\n",
    "import numpy as np\n",
    "import sys\n",
    "from fastai.tabular import *\n",
    "from fastai.tabular.all import *\n",
    "# Load EB_ML python libraries\n",
    "# The following libraries are used in this notebook and should be installed in your local machine before running this notebook.\n",
    "# eb_colab_utils.py\n",
    "# eb_ml_battery_lib.py\n",
    "# eb_ml_utils.py\n",
    "\n",
    "# path to load external *.py files used in this notebook\n",
    "# Note: in Google Colab virtual machine you shoud copy the files in \"/content\" folder after BEFORE running this notebook's cell\n",
    "external_python_file_path='../src'\n",
    "sys.path.append(external_python_file_path)\n",
    "\n",
    "\n",
    "from eb_ml_colab_utils import get_root_path\n",
    "from eb_ml_battery_lib import build_EIS_tabular_learner_rectangular,load_soc_dataset,get_EIS_tabular_dataset_rectangular\n",
    "from eb_ml_utils import build_tabular_learner"
   ]
  },
  {
   "cell_type": "markdown",
   "metadata": {},
   "source": [
    "## Load EIS tabular regression model trained with measure on  battery 2"
   ]
  },
  {
   "cell_type": "code",
   "execution_count": 2,
   "metadata": {},
   "outputs": [
    {
     "name": "stdout",
     "output_type": "stream",
     "text": [
      "NOT running on COLAB\n"
     ]
    },
    {
     "name": "stderr",
     "output_type": "stream",
     "text": [
      "c:\\gitrepos\\ml-4-measurement\\notebooks\\../src\\eb_ml_battery_lib.py:143: FutureWarning: The frame.append method is deprecated and will be removed from pandas in a future version. Use pandas.concat instead.\n",
      "  dataset= dataset.append(df_rows)\n",
      "c:\\gitrepos\\ml-4-measurement\\notebooks\\../src\\eb_ml_battery_lib.py:143: FutureWarning: The frame.append method is deprecated and will be removed from pandas in a future version. Use pandas.concat instead.\n",
      "  dataset= dataset.append(df_rows)\n",
      "c:\\gitrepos\\ml-4-measurement\\notebooks\\../src\\eb_ml_battery_lib.py:143: FutureWarning: The frame.append method is deprecated and will be removed from pandas in a future version. Use pandas.concat instead.\n",
      "  dataset= dataset.append(df_rows)\n",
      "c:\\gitrepos\\ml-4-measurement\\notebooks\\../src\\eb_ml_battery_lib.py:143: FutureWarning: The frame.append method is deprecated and will be removed from pandas in a future version. Use pandas.concat instead.\n",
      "  dataset= dataset.append(df_rows)\n",
      "c:\\gitrepos\\ml-4-measurement\\notebooks\\../src\\eb_ml_battery_lib.py:143: FutureWarning: The frame.append method is deprecated and will be removed from pandas in a future version. Use pandas.concat instead.\n",
      "  dataset= dataset.append(df_rows)\n",
      "c:\\gitrepos\\ml-4-measurement\\notebooks\\../src\\eb_ml_battery_lib.py:143: FutureWarning: The frame.append method is deprecated and will be removed from pandas in a future version. Use pandas.concat instead.\n",
      "  dataset= dataset.append(df_rows)\n"
     ]
    },
    {
     "data": {
      "text/plain": [
       "<fastai.tabular.learner.TabularLearner at 0x2d57328a0d0>"
      ]
     },
     "execution_count": 2,
     "metadata": {},
     "output_type": "execute_result"
    }
   ],
   "source": [
    "#configuration dictionary\n",
    "config ={}\n",
    "\n",
    "# Root working folder (local or Google Drive)\n",
    "# config['ROOT_DIR'] = get_root_path(\"batterie\")\n",
    "config['ROOT_DIR'] = get_root_path(\"..\")  \n",
    "\n",
    "# Folder with dataset in CSV format\n",
    "#config['DATASETS_DIR'] = config['ROOT_DIR']+\"/datasets\"\n",
    "config['DATASETS_DIR'] = config['ROOT_DIR']+\"/datasets/EIS-vs-SOC-May2022\"\n",
    "\n",
    "# List of SoC level into dataset\n",
    "#config['soc_list']=['100','090','080','070','060','050','040','030','020','010']\n",
    "config['soc_list']=['100','090','080','070','060','050','040','030','020','010']\n",
    "\n",
    "# Data acquisition files to load from dateset folder\n",
    "measure_list=[\"02_4\",\"02_5\",\"02_6\",\"02_7\",\"02_8\",\"02_9\"]\n",
    "\n",
    "\n",
    "# Build FastAI's DataLoader and Learner objects\n",
    "learn= build_EIS_tabular_learner_rectangular(config,measure_list)\n",
    "\n",
    "#Load Model weights from file saved after training with battery 02 dataset\n",
    "learn.load('EIS_BATT02_tabular_regression_rect')"
   ]
  },
  {
   "cell_type": "markdown",
   "metadata": {},
   "source": [
    "## Tabular Learner NN Architecture"
   ]
  },
  {
   "cell_type": "code",
   "execution_count": 3,
   "metadata": {},
   "outputs": [
    {
     "data": {
      "text/plain": [
       "TabularModel(\n",
       "  (embeds): ModuleList()\n",
       "  (emb_drop): Dropout(p=0.0, inplace=False)\n",
       "  (bn_cont): BatchNorm1d(28, eps=1e-05, momentum=0.1, affine=True, track_running_stats=True)\n",
       "  (layers): Sequential(\n",
       "    (0): LinBnDrop(\n",
       "      (0): Linear(in_features=28, out_features=300, bias=False)\n",
       "      (1): ReLU(inplace=True)\n",
       "      (2): BatchNorm1d(300, eps=1e-05, momentum=0.1, affine=True, track_running_stats=True)\n",
       "    )\n",
       "    (1): LinBnDrop(\n",
       "      (0): Linear(in_features=300, out_features=200, bias=False)\n",
       "      (1): ReLU(inplace=True)\n",
       "      (2): BatchNorm1d(200, eps=1e-05, momentum=0.1, affine=True, track_running_stats=True)\n",
       "    )\n",
       "    (2): LinBnDrop(\n",
       "      (0): Linear(in_features=200, out_features=100, bias=False)\n",
       "      (1): ReLU(inplace=True)\n",
       "      (2): BatchNorm1d(100, eps=1e-05, momentum=0.1, affine=True, track_running_stats=True)\n",
       "    )\n",
       "    (3): LinBnDrop(\n",
       "      (0): Linear(in_features=100, out_features=50, bias=False)\n",
       "      (1): ReLU(inplace=True)\n",
       "      (2): BatchNorm1d(50, eps=1e-05, momentum=0.1, affine=True, track_running_stats=True)\n",
       "    )\n",
       "    (4): LinBnDrop(\n",
       "      (0): Linear(in_features=50, out_features=1, bias=True)\n",
       "    )\n",
       "  )\n",
       ")"
      ]
     },
     "execution_count": 3,
     "metadata": {},
     "output_type": "execute_result"
    }
   ],
   "source": [
    "learn.model"
   ]
  },
  {
   "cell_type": "markdown",
   "metadata": {},
   "source": [
    "## Get Prediction from validation dataset"
   ]
  },
  {
   "cell_type": "code",
   "execution_count": 4,
   "metadata": {},
   "outputs": [
    {
     "data": {
      "text/html": [
       "\n",
       "<style>\n",
       "    /* Turns off some styling */\n",
       "    progress {\n",
       "        /* gets rid of default border in Firefox and Opera. */\n",
       "        border: none;\n",
       "        /* Needs to be in here for Safari polyfill so background images work as expected. */\n",
       "        background-size: auto;\n",
       "    }\n",
       "    .progress-bar-interrupted, .progress-bar-interrupted::-webkit-progress-bar {\n",
       "        background: #F44336;\n",
       "    }\n",
       "</style>\n"
      ],
      "text/plain": [
       "<IPython.core.display.HTML object>"
      ]
     },
     "metadata": {},
     "output_type": "display_data"
    },
    {
     "data": {
      "text/html": [],
      "text/plain": [
       "<IPython.core.display.HTML object>"
      ]
     },
     "metadata": {},
     "output_type": "display_data"
    },
    {
     "data": {
      "text/plain": [
       "2.4208105"
      ]
     },
     "execution_count": 4,
     "metadata": {},
     "output_type": "execute_result"
    }
   ],
   "source": [
    "from sklearn.metrics import mean_squared_error\n",
    "[y_pred,y_true] =learn.get_preds()\n",
    "mean_squared_error(y_true,y_pred,squared=False)"
   ]
  },
  {
   "cell_type": "markdown",
   "metadata": {},
   "source": [
    "## Load measure on battery 03 as test dataset"
   ]
  },
  {
   "cell_type": "code",
   "execution_count": 5,
   "metadata": {},
   "outputs": [
    {
     "name": "stderr",
     "output_type": "stream",
     "text": [
      "c:\\gitrepos\\ml-4-measurement\\notebooks\\../src\\eb_ml_battery_lib.py:143: FutureWarning: The frame.append method is deprecated and will be removed from pandas in a future version. Use pandas.concat instead.\n",
      "  dataset= dataset.append(df_rows)\n",
      "c:\\gitrepos\\ml-4-measurement\\notebooks\\../src\\eb_ml_battery_lib.py:143: FutureWarning: The frame.append method is deprecated and will be removed from pandas in a future version. Use pandas.concat instead.\n",
      "  dataset= dataset.append(df_rows)\n",
      "c:\\gitrepos\\ml-4-measurement\\notebooks\\../src\\eb_ml_battery_lib.py:143: FutureWarning: The frame.append method is deprecated and will be removed from pandas in a future version. Use pandas.concat instead.\n",
      "  dataset= dataset.append(df_rows)\n",
      "c:\\gitrepos\\ml-4-measurement\\notebooks\\../src\\eb_ml_battery_lib.py:143: FutureWarning: The frame.append method is deprecated and will be removed from pandas in a future version. Use pandas.concat instead.\n",
      "  dataset= dataset.append(df_rows)\n",
      "c:\\gitrepos\\ml-4-measurement\\notebooks\\../src\\eb_ml_battery_lib.py:143: FutureWarning: The frame.append method is deprecated and will be removed from pandas in a future version. Use pandas.concat instead.\n",
      "  dataset= dataset.append(df_rows)\n",
      "c:\\gitrepos\\ml-4-measurement\\notebooks\\../src\\eb_ml_battery_lib.py:143: FutureWarning: The frame.append method is deprecated and will be removed from pandas in a future version. Use pandas.concat instead.\n",
      "  dataset= dataset.append(df_rows)\n"
     ]
    }
   ],
   "source": [
    "test_measure_list= [\"03_4\",\"03_5\",\"03_6\",\"03_7\",\"03_8\",\"03_9\"]\n",
    "test_dataset,feature_col_names=load_soc_dataset(test_measure_list,config[\"soc_list\"],config['DATASETS_DIR'])\n",
    "\n",
    "# Put complex number in rectangular format\n",
    "test_dataset_rect,feature_col_names_rect=get_EIS_tabular_dataset_rectangular(test_dataset,feature_col_names)\n",
    "\n",
    "# Create a new Data Loader object to load test dataset\n",
    "test_dl = learn.dls.test_dl(test_dataset_rect)\n"
   ]
  },
  {
   "cell_type": "markdown",
   "metadata": {},
   "source": [
    "# Get Prediction on battery 03 test dataset"
   ]
  },
  {
   "cell_type": "code",
   "execution_count": 6,
   "metadata": {},
   "outputs": [
    {
     "data": {
      "text/html": [
       "\n",
       "<style>\n",
       "    /* Turns off some styling */\n",
       "    progress {\n",
       "        /* gets rid of default border in Firefox and Opera. */\n",
       "        border: none;\n",
       "        /* Needs to be in here for Safari polyfill so background images work as expected. */\n",
       "        background-size: auto;\n",
       "    }\n",
       "    .progress-bar-interrupted, .progress-bar-interrupted::-webkit-progress-bar {\n",
       "        background: #F44336;\n",
       "    }\n",
       "</style>\n"
      ],
      "text/plain": [
       "<IPython.core.display.HTML object>"
      ]
     },
     "metadata": {},
     "output_type": "display_data"
    },
    {
     "data": {
      "text/html": [],
      "text/plain": [
       "<IPython.core.display.HTML object>"
      ]
     },
     "metadata": {},
     "output_type": "display_data"
    },
    {
     "data": {
      "text/plain": [
       "3.139218"
      ]
     },
     "execution_count": 6,
     "metadata": {},
     "output_type": "execute_result"
    }
   ],
   "source": [
    "from sklearn.metrics import mean_squared_error\n",
    "[y_pred,y_true] =learn.get_preds(dl=test_dl)\n",
    "\n",
    "#RMS Error predizione modello adestrato du dati batteria due eseguito su dati batteria \n",
    "mean_squared_error(y_true,y_pred,squared=False)"
   ]
  }
 ],
 "metadata": {
  "interpreter": {
   "hash": "c290a864c711f8769fa554e9af87682006916626a91b0a3b0effea992bc61f44"
  },
  "kernelspec": {
   "display_name": "Python 3.9.12 64-bit",
   "language": "python",
   "name": "python3"
  },
  "language_info": {
   "codemirror_mode": {
    "name": "ipython",
    "version": 3
   },
   "file_extension": ".py",
   "mimetype": "text/x-python",
   "name": "python",
   "nbconvert_exporter": "python",
   "pygments_lexer": "ipython3",
   "version": "3.9.12"
  },
  "orig_nbformat": 4
 },
 "nbformat": 4,
 "nbformat_minor": 2
}
